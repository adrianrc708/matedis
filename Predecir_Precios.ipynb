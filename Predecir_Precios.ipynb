{
  "cells": [
    {
      "cell_type": "code",
      "execution_count": 13,
      "metadata": {
        "colab": {
          "base_uri": "https://localhost:8080/"
        },
        "id": "nPGL7qMFDDC-",
        "outputId": "50b812d5-89d7-4dff-a33b-271807b2a857"
      },
      "outputs": [
        {
          "name": "stdout",
          "output_type": "stream",
          "text": [
            "Requirement already satisfied: yfinance in c:\\users\\honor\\appdata\\roaming\\python\\python312\\site-packages (0.2.43)\n",
            "Requirement already satisfied: pandas>=1.3.0 in c:\\users\\honor\\appdata\\roaming\\python\\python312\\site-packages (from yfinance) (2.2.3)\n",
            "Requirement already satisfied: numpy>=1.16.5 in c:\\users\\honor\\appdata\\roaming\\python\\python312\\site-packages (from yfinance) (1.26.4)\n",
            "Requirement already satisfied: requests>=2.31 in c:\\users\\honor\\appdata\\roaming\\python\\python312\\site-packages (from yfinance) (2.32.3)\n",
            "Requirement already satisfied: multitasking>=0.0.7 in c:\\users\\honor\\appdata\\roaming\\python\\python312\\site-packages (from yfinance) (0.0.11)\n",
            "Requirement already satisfied: lxml>=4.9.1 in c:\\users\\honor\\appdata\\roaming\\python\\python312\\site-packages (from yfinance) (5.3.0)\n",
            "Requirement already satisfied: platformdirs>=2.0.0 in c:\\users\\honor\\appdata\\roaming\\python\\python312\\site-packages (from yfinance) (4.3.6)\n",
            "Requirement already satisfied: pytz>=2022.5 in c:\\users\\honor\\appdata\\roaming\\python\\python312\\site-packages (from yfinance) (2024.2)\n",
            "Requirement already satisfied: frozendict>=2.3.4 in c:\\users\\honor\\appdata\\roaming\\python\\python312\\site-packages (from yfinance) (2.4.4)\n",
            "Requirement already satisfied: peewee>=3.16.2 in c:\\users\\honor\\appdata\\roaming\\python\\python312\\site-packages (from yfinance) (3.17.6)\n",
            "Requirement already satisfied: beautifulsoup4>=4.11.1 in c:\\users\\honor\\appdata\\roaming\\python\\python312\\site-packages (from yfinance) (4.12.3)\n",
            "Requirement already satisfied: html5lib>=1.1 in c:\\users\\honor\\appdata\\roaming\\python\\python312\\site-packages (from yfinance) (1.1)\n",
            "Requirement already satisfied: soupsieve>1.2 in c:\\users\\honor\\appdata\\roaming\\python\\python312\\site-packages (from beautifulsoup4>=4.11.1->yfinance) (2.6)\n",
            "Requirement already satisfied: six>=1.9 in c:\\users\\honor\\appdata\\roaming\\python\\python312\\site-packages (from html5lib>=1.1->yfinance) (1.16.0)\n",
            "Requirement already satisfied: webencodings in c:\\users\\honor\\appdata\\roaming\\python\\python312\\site-packages (from html5lib>=1.1->yfinance) (0.5.1)\n",
            "Requirement already satisfied: python-dateutil>=2.8.2 in c:\\users\\honor\\appdata\\roaming\\python\\python312\\site-packages (from pandas>=1.3.0->yfinance) (2.9.0.post0)\n",
            "Requirement already satisfied: tzdata>=2022.7 in c:\\users\\honor\\appdata\\roaming\\python\\python312\\site-packages (from pandas>=1.3.0->yfinance) (2024.2)\n",
            "Requirement already satisfied: charset-normalizer<4,>=2 in c:\\users\\honor\\appdata\\roaming\\python\\python312\\site-packages (from requests>=2.31->yfinance) (3.3.2)\n",
            "Requirement already satisfied: idna<4,>=2.5 in c:\\users\\honor\\appdata\\roaming\\python\\python312\\site-packages (from requests>=2.31->yfinance) (3.10)\n",
            "Requirement already satisfied: urllib3<3,>=1.21.1 in c:\\users\\honor\\appdata\\roaming\\python\\python312\\site-packages (from requests>=2.31->yfinance) (2.2.3)\n",
            "Requirement already satisfied: certifi>=2017.4.17 in c:\\users\\honor\\appdata\\roaming\\python\\python312\\site-packages (from requests>=2.31->yfinance) (2024.8.30)\n",
            "Note: you may need to restart the kernel to use updated packages.\n"
          ]
        }
      ],
      "source": [
        "pip install yfinance"
      ]
    },
    {
      "cell_type": "code",
      "execution_count": 14,
      "metadata": {
        "id": "pbnve7rBGxfG"
      },
      "outputs": [],
      "source": [
        "import numpy as np\n",
        "import matplotlib.pyplot as plt\n",
        "import pandas as pd\n",
        "\n",
        "import yfinance as yf\n",
        "\n",
        "from sklearn.preprocessing import MinMaxScaler\n",
        "from tensorflow.keras.models import Sequential\n",
        "from tensorflow.keras.layers import Dense,Dropout,GRU"
      ]
    },
    {
      "cell_type": "code",
      "execution_count": 15,
      "metadata": {},
      "outputs": [
        {
          "name": "stdout",
          "output_type": "stream",
          "text": [
            "¿Qué empresa desea analizar?\n",
            "1. Apple\n",
            "2. Microsoft\n",
            "3. Amazon\n",
            "4. Google\n",
            "5. Facebook\n",
            "6. Tesla\n",
            "7. Nvidia\n"
          ]
        }
      ],
      "source": [
        "print(\"¿Qué empresa desea analizar?\")\n",
        "print(\"1. Apple\")\n",
        "print(\"2. Microsoft\")\n",
        "print(\"3. Amazon\")\n",
        "print(\"4. Google\")\n",
        "print(\"5. Facebook\")\n",
        "print(\"6. Tesla\")\n",
        "print(\"7. Nvidia\")\n",
        "\n",
        "indicator = int(input())\n",
        "\n",
        "if indicator == 1:\n",
        "    company = 'AAPL'\n",
        "elif indicator == 2:\n",
        "    company = 'MSFT'\n",
        "elif indicator == 3:\n",
        "    company = 'AMZN'\n",
        "elif indicator == 4:\n",
        "    company = 'GOOGL'\n",
        "elif indicator == 5:\n",
        "    company = 'FB'\n",
        "elif indicator == 6:\n",
        "    company = 'TSLA'\n",
        "elif indicator == 7:\n",
        "    company = 'NVDA'\n",
        "else:\n",
        "    print(\"Opción no válida\")\n",
        "    exit()"
      ]
    },
    {
      "cell_type": "code",
      "execution_count": null,
      "metadata": {},
      "outputs": [],
      "source": []
    },
    {
      "cell_type": "code",
      "execution_count": 16,
      "metadata": {
        "colab": {
          "base_uri": "https://localhost:8080/",
          "height": 455
        },
        "id": "VLWhLwFgHVw_",
        "outputId": "09d17012-ef35-4670-c6bb-d4b5c75a5b4b"
      },
      "outputs": [
        {
          "data": {
            "text/html": [
              "<div>\n",
              "<style scoped>\n",
              "    .dataframe tbody tr th:only-of-type {\n",
              "        vertical-align: middle;\n",
              "    }\n",
              "\n",
              "    .dataframe tbody tr th {\n",
              "        vertical-align: top;\n",
              "    }\n",
              "\n",
              "    .dataframe thead th {\n",
              "        text-align: right;\n",
              "    }\n",
              "</style>\n",
              "<table border=\"1\" class=\"dataframe\">\n",
              "  <thead>\n",
              "    <tr style=\"text-align: right;\">\n",
              "      <th></th>\n",
              "      <th>Open</th>\n",
              "      <th>High</th>\n",
              "      <th>Low</th>\n",
              "      <th>Close</th>\n",
              "      <th>Volume</th>\n",
              "      <th>Dividends</th>\n",
              "      <th>Stock Splits</th>\n",
              "    </tr>\n",
              "    <tr>\n",
              "      <th>Date</th>\n",
              "      <th></th>\n",
              "      <th></th>\n",
              "      <th></th>\n",
              "      <th></th>\n",
              "      <th></th>\n",
              "      <th></th>\n",
              "      <th></th>\n",
              "    </tr>\n",
              "  </thead>\n",
              "  <tbody>\n",
              "    <tr>\n",
              "      <th>2012-01-03 00:00:00-05:00</th>\n",
              "      <td>1.929333</td>\n",
              "      <td>1.966667</td>\n",
              "      <td>1.843333</td>\n",
              "      <td>1.872000</td>\n",
              "      <td>13921500</td>\n",
              "      <td>0.0</td>\n",
              "      <td>0.0</td>\n",
              "    </tr>\n",
              "    <tr>\n",
              "      <th>2012-01-04 00:00:00-05:00</th>\n",
              "      <td>1.880667</td>\n",
              "      <td>1.911333</td>\n",
              "      <td>1.833333</td>\n",
              "      <td>1.847333</td>\n",
              "      <td>9451500</td>\n",
              "      <td>0.0</td>\n",
              "      <td>0.0</td>\n",
              "    </tr>\n",
              "    <tr>\n",
              "      <th>2012-01-05 00:00:00-05:00</th>\n",
              "      <td>1.850667</td>\n",
              "      <td>1.862000</td>\n",
              "      <td>1.790000</td>\n",
              "      <td>1.808000</td>\n",
              "      <td>15082500</td>\n",
              "      <td>0.0</td>\n",
              "      <td>0.0</td>\n",
              "    </tr>\n",
              "    <tr>\n",
              "      <th>2012-01-06 00:00:00-05:00</th>\n",
              "      <td>1.813333</td>\n",
              "      <td>1.852667</td>\n",
              "      <td>1.760667</td>\n",
              "      <td>1.794000</td>\n",
              "      <td>14794500</td>\n",
              "      <td>0.0</td>\n",
              "      <td>0.0</td>\n",
              "    </tr>\n",
              "    <tr>\n",
              "      <th>2012-01-09 00:00:00-05:00</th>\n",
              "      <td>1.800000</td>\n",
              "      <td>1.832667</td>\n",
              "      <td>1.741333</td>\n",
              "      <td>1.816667</td>\n",
              "      <td>13455000</td>\n",
              "      <td>0.0</td>\n",
              "      <td>0.0</td>\n",
              "    </tr>\n",
              "    <tr>\n",
              "      <th>...</th>\n",
              "      <td>...</td>\n",
              "      <td>...</td>\n",
              "      <td>...</td>\n",
              "      <td>...</td>\n",
              "      <td>...</td>\n",
              "      <td>...</td>\n",
              "      <td>...</td>\n",
              "    </tr>\n",
              "    <tr>\n",
              "      <th>2019-12-24 00:00:00-05:00</th>\n",
              "      <td>27.890667</td>\n",
              "      <td>28.364668</td>\n",
              "      <td>27.512667</td>\n",
              "      <td>28.350000</td>\n",
              "      <td>120820500</td>\n",
              "      <td>0.0</td>\n",
              "      <td>0.0</td>\n",
              "    </tr>\n",
              "    <tr>\n",
              "      <th>2019-12-26 00:00:00-05:00</th>\n",
              "      <td>28.527332</td>\n",
              "      <td>28.898666</td>\n",
              "      <td>28.423332</td>\n",
              "      <td>28.729334</td>\n",
              "      <td>159508500</td>\n",
              "      <td>0.0</td>\n",
              "      <td>0.0</td>\n",
              "    </tr>\n",
              "    <tr>\n",
              "      <th>2019-12-27 00:00:00-05:00</th>\n",
              "      <td>29.000000</td>\n",
              "      <td>29.020666</td>\n",
              "      <td>28.407333</td>\n",
              "      <td>28.691999</td>\n",
              "      <td>149185500</td>\n",
              "      <td>0.0</td>\n",
              "      <td>0.0</td>\n",
              "    </tr>\n",
              "    <tr>\n",
              "      <th>2019-12-30 00:00:00-05:00</th>\n",
              "      <td>28.586000</td>\n",
              "      <td>28.600000</td>\n",
              "      <td>27.284000</td>\n",
              "      <td>27.646667</td>\n",
              "      <td>188796000</td>\n",
              "      <td>0.0</td>\n",
              "      <td>0.0</td>\n",
              "    </tr>\n",
              "    <tr>\n",
              "      <th>2019-12-31 00:00:00-05:00</th>\n",
              "      <td>27.000000</td>\n",
              "      <td>28.086000</td>\n",
              "      <td>26.805332</td>\n",
              "      <td>27.888666</td>\n",
              "      <td>154285500</td>\n",
              "      <td>0.0</td>\n",
              "      <td>0.0</td>\n",
              "    </tr>\n",
              "  </tbody>\n",
              "</table>\n",
              "<p>2012 rows × 7 columns</p>\n",
              "</div>"
            ],
            "text/plain": [
              "                                Open       High        Low      Close  \\\n",
              "Date                                                                    \n",
              "2012-01-03 00:00:00-05:00   1.929333   1.966667   1.843333   1.872000   \n",
              "2012-01-04 00:00:00-05:00   1.880667   1.911333   1.833333   1.847333   \n",
              "2012-01-05 00:00:00-05:00   1.850667   1.862000   1.790000   1.808000   \n",
              "2012-01-06 00:00:00-05:00   1.813333   1.852667   1.760667   1.794000   \n",
              "2012-01-09 00:00:00-05:00   1.800000   1.832667   1.741333   1.816667   \n",
              "...                              ...        ...        ...        ...   \n",
              "2019-12-24 00:00:00-05:00  27.890667  28.364668  27.512667  28.350000   \n",
              "2019-12-26 00:00:00-05:00  28.527332  28.898666  28.423332  28.729334   \n",
              "2019-12-27 00:00:00-05:00  29.000000  29.020666  28.407333  28.691999   \n",
              "2019-12-30 00:00:00-05:00  28.586000  28.600000  27.284000  27.646667   \n",
              "2019-12-31 00:00:00-05:00  27.000000  28.086000  26.805332  27.888666   \n",
              "\n",
              "                              Volume  Dividends  Stock Splits  \n",
              "Date                                                           \n",
              "2012-01-03 00:00:00-05:00   13921500        0.0           0.0  \n",
              "2012-01-04 00:00:00-05:00    9451500        0.0           0.0  \n",
              "2012-01-05 00:00:00-05:00   15082500        0.0           0.0  \n",
              "2012-01-06 00:00:00-05:00   14794500        0.0           0.0  \n",
              "2012-01-09 00:00:00-05:00   13455000        0.0           0.0  \n",
              "...                              ...        ...           ...  \n",
              "2019-12-24 00:00:00-05:00  120820500        0.0           0.0  \n",
              "2019-12-26 00:00:00-05:00  159508500        0.0           0.0  \n",
              "2019-12-27 00:00:00-05:00  149185500        0.0           0.0  \n",
              "2019-12-30 00:00:00-05:00  188796000        0.0           0.0  \n",
              "2019-12-31 00:00:00-05:00  154285500        0.0           0.0  \n",
              "\n",
              "[2012 rows x 7 columns]"
            ]
          },
          "execution_count": 16,
          "metadata": {},
          "output_type": "execute_result"
        }
      ],
      "source": [
        "#Cargar los datos\n",
        "ticker = yf.Ticker(company)\n",
        "hist = ticker.history(start = '2012-1-1', end='2020-1-1')\n",
        "\n",
        "hist"
      ]
    },
    {
      "cell_type": "code",
      "execution_count": 17,
      "metadata": {
        "colab": {
          "base_uri": "https://localhost:8080/"
        },
        "id": "s61fQZqiHyUL",
        "outputId": "51c89285-c452-48fe-8841-8cc44fd6754f"
      },
      "outputs": [],
      "source": [
        "#Preparar los datos\n",
        "scaler = MinMaxScaler(feature_range=(0,1))\n",
        "scaled_data = scaler.fit_transform(hist['Close'].values.reshape(-1,1))\n",
        "\n",
        "prediction_days = 60\n",
        "\n",
        "x_train = []\n",
        "y_train = []\n",
        "\n",
        "for x in range(prediction_days,len(scaled_data)):\n",
        "  x_train.append(scaled_data[x-prediction_days:x,0])\n",
        "  y_train.append(scaled_data[x,0])\n",
        "\n",
        "x_train,y_train = np.array(x_train),np.array(y_train)\n",
        "x_train = np.reshape(x_train,(x_train.shape[0],x_train.shape[1],1))"
      ]
    },
    {
      "cell_type": "code",
      "execution_count": 18,
      "metadata": {
        "colab": {
          "base_uri": "https://localhost:8080/"
        },
        "id": "_P6AnkMgJvbk",
        "outputId": "3319ec4b-1369-4731-86c8-d775900791e5"
      },
      "outputs": [
        {
          "name": "stdout",
          "output_type": "stream",
          "text": [
            "Epoch 1/25\n"
          ]
        },
        {
          "name": "stderr",
          "output_type": "stream",
          "text": [
            "C:\\Users\\HONOR\\AppData\\Roaming\\Python\\Python312\\site-packages\\keras\\src\\layers\\rnn\\rnn.py:204: UserWarning: Do not pass an `input_shape`/`input_dim` argument to a layer. When using Sequential models, prefer using an `Input(shape)` object as the first layer in the model instead.\n",
            "  super().__init__(**kwargs)\n"
          ]
        },
        {
          "name": "stdout",
          "output_type": "stream",
          "text": [
            "\u001b[1m61/61\u001b[0m \u001b[32m━━━━━━━━━━━━━━━━━━━━\u001b[0m\u001b[37m\u001b[0m \u001b[1m5s\u001b[0m 39ms/step - loss: 0.0694\n",
            "Epoch 2/25\n",
            "\u001b[1m61/61\u001b[0m \u001b[32m━━━━━━━━━━━━━━━━━━━━\u001b[0m\u001b[37m\u001b[0m \u001b[1m2s\u001b[0m 38ms/step - loss: 0.0037\n",
            "Epoch 3/25\n",
            "\u001b[1m61/61\u001b[0m \u001b[32m━━━━━━━━━━━━━━━━━━━━\u001b[0m\u001b[37m\u001b[0m \u001b[1m2s\u001b[0m 35ms/step - loss: 0.0030\n",
            "Epoch 4/25\n",
            "\u001b[1m61/61\u001b[0m \u001b[32m━━━━━━━━━━━━━━━━━━━━\u001b[0m\u001b[37m\u001b[0m \u001b[1m2s\u001b[0m 34ms/step - loss: 0.0027\n",
            "Epoch 5/25\n",
            "\u001b[1m61/61\u001b[0m \u001b[32m━━━━━━━━━━━━━━━━━━━━\u001b[0m\u001b[37m\u001b[0m \u001b[1m2s\u001b[0m 38ms/step - loss: 0.0027\n",
            "Epoch 6/25\n",
            "\u001b[1m61/61\u001b[0m \u001b[32m━━━━━━━━━━━━━━━━━━━━\u001b[0m\u001b[37m\u001b[0m \u001b[1m3s\u001b[0m 44ms/step - loss: 0.0024\n",
            "Epoch 7/25\n",
            "\u001b[1m61/61\u001b[0m \u001b[32m━━━━━━━━━━━━━━━━━━━━\u001b[0m\u001b[37m\u001b[0m \u001b[1m3s\u001b[0m 45ms/step - loss: 0.0022\n",
            "Epoch 8/25\n",
            "\u001b[1m61/61\u001b[0m \u001b[32m━━━━━━━━━━━━━━━━━━━━\u001b[0m\u001b[37m\u001b[0m \u001b[1m3s\u001b[0m 43ms/step - loss: 0.0026\n",
            "Epoch 9/25\n",
            "\u001b[1m61/61\u001b[0m \u001b[32m━━━━━━━━━━━━━━━━━━━━\u001b[0m\u001b[37m\u001b[0m \u001b[1m3s\u001b[0m 44ms/step - loss: 0.0018\n",
            "Epoch 10/25\n",
            "\u001b[1m61/61\u001b[0m \u001b[32m━━━━━━━━━━━━━━━━━━━━\u001b[0m\u001b[37m\u001b[0m \u001b[1m3s\u001b[0m 45ms/step - loss: 0.0019\n",
            "Epoch 11/25\n",
            "\u001b[1m61/61\u001b[0m \u001b[32m━━━━━━━━━━━━━━━━━━━━\u001b[0m\u001b[37m\u001b[0m \u001b[1m3s\u001b[0m 45ms/step - loss: 0.0016\n",
            "Epoch 12/25\n",
            "\u001b[1m61/61\u001b[0m \u001b[32m━━━━━━━━━━━━━━━━━━━━\u001b[0m\u001b[37m\u001b[0m \u001b[1m3s\u001b[0m 45ms/step - loss: 0.0018\n",
            "Epoch 13/25\n",
            "\u001b[1m61/61\u001b[0m \u001b[32m━━━━━━━━━━━━━━━━━━━━\u001b[0m\u001b[37m\u001b[0m \u001b[1m3s\u001b[0m 51ms/step - loss: 0.0019\n",
            "Epoch 14/25\n",
            "\u001b[1m61/61\u001b[0m \u001b[32m━━━━━━━━━━━━━━━━━━━━\u001b[0m\u001b[37m\u001b[0m \u001b[1m5s\u001b[0m 51ms/step - loss: 0.0016\n",
            "Epoch 15/25\n",
            "\u001b[1m61/61\u001b[0m \u001b[32m━━━━━━━━━━━━━━━━━━━━\u001b[0m\u001b[37m\u001b[0m \u001b[1m3s\u001b[0m 48ms/step - loss: 0.0018\n",
            "Epoch 16/25\n",
            "\u001b[1m61/61\u001b[0m \u001b[32m━━━━━━━━━━━━━━━━━━━━\u001b[0m\u001b[37m\u001b[0m \u001b[1m3s\u001b[0m 44ms/step - loss: 0.0016\n",
            "Epoch 17/25\n",
            "\u001b[1m61/61\u001b[0m \u001b[32m━━━━━━━━━━━━━━━━━━━━\u001b[0m\u001b[37m\u001b[0m \u001b[1m3s\u001b[0m 48ms/step - loss: 0.0014\n",
            "Epoch 18/25\n",
            "\u001b[1m61/61\u001b[0m \u001b[32m━━━━━━━━━━━━━━━━━━━━\u001b[0m\u001b[37m\u001b[0m \u001b[1m3s\u001b[0m 45ms/step - loss: 0.0014\n",
            "Epoch 19/25\n",
            "\u001b[1m61/61\u001b[0m \u001b[32m━━━━━━━━━━━━━━━━━━━━\u001b[0m\u001b[37m\u001b[0m \u001b[1m3s\u001b[0m 49ms/step - loss: 0.0013\n",
            "Epoch 20/25\n",
            "\u001b[1m61/61\u001b[0m \u001b[32m━━━━━━━━━━━━━━━━━━━━\u001b[0m\u001b[37m\u001b[0m \u001b[1m3s\u001b[0m 44ms/step - loss: 0.0015\n",
            "Epoch 21/25\n",
            "\u001b[1m61/61\u001b[0m \u001b[32m━━━━━━━━━━━━━━━━━━━━\u001b[0m\u001b[37m\u001b[0m \u001b[1m3s\u001b[0m 44ms/step - loss: 0.0016\n",
            "Epoch 22/25\n",
            "\u001b[1m61/61\u001b[0m \u001b[32m━━━━━━━━━━━━━━━━━━━━\u001b[0m\u001b[37m\u001b[0m \u001b[1m3s\u001b[0m 45ms/step - loss: 0.0013\n",
            "Epoch 23/25\n",
            "\u001b[1m61/61\u001b[0m \u001b[32m━━━━━━━━━━━━━━━━━━━━\u001b[0m\u001b[37m\u001b[0m \u001b[1m3s\u001b[0m 43ms/step - loss: 0.0013\n",
            "Epoch 24/25\n",
            "\u001b[1m61/61\u001b[0m \u001b[32m━━━━━━━━━━━━━━━━━━━━\u001b[0m\u001b[37m\u001b[0m \u001b[1m3s\u001b[0m 44ms/step - loss: 0.0013\n",
            "Epoch 25/25\n",
            "\u001b[1m61/61\u001b[0m \u001b[32m━━━━━━━━━━━━━━━━━━━━\u001b[0m\u001b[37m\u001b[0m \u001b[1m3s\u001b[0m 43ms/step - loss: 0.0012\n"
          ]
        },
        {
          "data": {
            "text/plain": [
              "<keras.src.callbacks.history.History at 0x1cf989db650>"
            ]
          },
          "execution_count": 18,
          "metadata": {},
          "output_type": "execute_result"
        }
      ],
      "source": [
        "#Contruir el modelo\n",
        "model = Sequential()\n",
        "\n",
        "model.add(GRU(units=50,return_sequences = True, input_shape=(x_train.shape[1],1)))\n",
        "model.add(Dropout(0.2))\n",
        "model.add(GRU(units=50,return_sequences = True))\n",
        "model.add(Dropout(0.2))\n",
        "model.add(GRU(units=50))\n",
        "model.add(Dropout(0.1))\n",
        "model.add(Dense(units=1))\n",
        "\n",
        "model.compile(optimizer='adam', loss='mean_squared_error')\n",
        "\n",
        "model.fit(x_train,y_train,epochs=25,batch_size=32)\n"
      ]
    },
    {
      "cell_type": "code",
      "execution_count": 19,
      "metadata": {
        "id": "hRm_TgHJLdjl"
      },
      "outputs": [],
      "source": [
        "#Cargar los datos del test\n",
        "hist_test = ticker.history(start = '2018-1-1', end='2022-1-21')\n",
        "actual_prices = hist_test[\"Close\"].values\n",
        "\n",
        "total_dataset = pd.concat((hist['Close'],hist_test['Close']),axis=0)\n",
        "model_inputs = total_dataset[len(total_dataset)-len(hist_test)-prediction_days:].values\n",
        "model_inputs = scaler.transform(model_inputs.reshape(-1,1))\n"
      ]
    },
    {
      "cell_type": "code",
      "execution_count": 20,
      "metadata": {
        "colab": {
          "base_uri": "https://localhost:8080/"
        },
        "id": "LdpCWBfmMmOV",
        "outputId": "64dc2bb6-012a-4908-a482-b13c0b7ad729"
      },
      "outputs": [
        {
          "name": "stdout",
          "output_type": "stream",
          "text": [
            "\u001b[1m32/32\u001b[0m \u001b[32m━━━━━━━━━━━━━━━━━━━━\u001b[0m\u001b[37m\u001b[0m \u001b[1m1s\u001b[0m 27ms/step\n"
          ]
        }
      ],
      "source": [
        "x_test = []\n",
        "\n",
        "for x in range(prediction_days,len(model_inputs)):\n",
        "  x_test.append(model_inputs[x-prediction_days:x,0])\n",
        "\n",
        "x_test = np.array(x_test)\n",
        "x_test = np.reshape(x_test,(x_test.shape[0],x_test.shape[1],1))\n",
        "\n",
        "predicted_prices = model.predict(x_test)\n",
        "predicted_prices = scaler.inverse_transform(predicted_prices)\n"
      ]
    },
    {
      "cell_type": "code",
      "execution_count": 21,
      "metadata": {
        "colab": {
          "base_uri": "https://localhost:8080/",
          "height": 430
        },
        "id": "loSrfZ9fNZqg",
        "outputId": "1f192d18-c61b-416c-fb0a-81908200b751"
      },
      "outputs": [
        {
          "data": {
            "image/png": "[encoded data removed]",
            "text/plain": [
              "<Figure size 640x480 with 1 Axes>"
            ]
          },
          "metadata": {},
          "output_type": "display_data"
        }
      ],
      "source": [
        "plt.plot(actual_prices,color=\"black\",label=f\"{company} real prices\")\n",
        "plt.plot(predicted_prices,color=\"blue\",label=f\"{company} predicted prices\")\n",
        "plt.legend()\n",
        "plt.show()"
      ]
    },
    {
      "cell_type": "code",
      "execution_count": 22,
      "metadata": {
        "colab": {
          "base_uri": "https://localhost:8080/"
        },
        "id": "QP0MxfOPOHyf",
        "outputId": "6d66c657-9242-4df6-daca-229b325b3800"
      },
      "outputs": [
        {
          "name": "stdout",
          "output_type": "stream",
          "text": [
            "30.157394567149186 %\n"
          ]
        }
      ],
      "source": [
        "rentability = 1\n",
        "for i in range(1,len(actual_prices)):\n",
        "  if predicted_prices[i] > actual_prices[i-1]:\n",
        "    rentability*= actual_prices[i]/actual_prices[i-1]\n",
        "\n",
        "print((rentability-1)*100,\"%\")"
      ]
    }
  ],
  "metadata": {
    "colab": {
      "provenance": []
    },
    "kernelspec": {
      "display_name": "Python 3",
      "name": "python3"
    },
    "language_info": {
      "codemirror_mode": {
        "name": "ipython",
        "version": 3
      },
      "file_extension": ".py",
      "mimetype": "text/x-python",
      "name": "python",
      "nbconvert_exporter": "python",
      "pygments_lexer": "ipython3",
      "version": "3.12.5"
    }
  },
  "nbformat": 4,
  "nbformat_minor": 0
}
